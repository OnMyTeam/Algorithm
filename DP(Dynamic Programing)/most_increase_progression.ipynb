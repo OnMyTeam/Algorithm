{
 "cells": [
  {
   "cell_type": "markdown",
   "metadata": {},
   "source": [
    "# 문제\n",
    "수열 A가 주어졌을 때, 가장 긴 증가하는 부분 수열을 구하는 프로그램을 작성하시오.\n",
    "\n",
    "예를 들어, 수열 A = {10, 20, 10, 30, 20, 50} 인 경우에 가장 긴 증가하는 부분 수열은 A = {__10__, __20__, 10, __30__, 20, __50__} 이고, 길이는 4이다.\n",
    "\n",
    "\n"
   ]
  },
  {
   "cell_type": "markdown",
   "metadata": {},
   "source": [
    "## 입력\n",
    "첫째 줄에 수열 A의 크기 N (1 ≤ N ≤ 1,000)이 주어진다.\n",
    "\n",
    "둘째 줄에는 수열 A를 이루고 있는 Ai가 주어진다. (1 ≤ Ai ≤ 1,000)"
   ]
  },
  {
   "cell_type": "markdown",
   "metadata": {},
   "source": [
    "## 출력\n",
    "첫째 줄에 수열 A의 가장 긴 증가하는 부분 수열의 길이를 출력한다."
   ]
  },
  {
   "cell_type": "markdown",
   "metadata": {},
   "source": [
    "### 예제 입력 1\n",
    "#### 6\n",
    "#### 10 20 10 30 20 50\n",
    "### 예제 출력 1\n",
    "#### 4\n"
   ]
  },
  {
   "cell_type": "code",
   "execution_count": 3,
   "metadata": {},
   "outputs": [
    {
     "name": "stdout",
     "output_type": "stream",
     "text": [
      "[5, 40, 20, 10]\n"
     ]
    }
   ],
   "source": [
    "N = 6\n",
    "N_list = [10, 20, 40, 3, 2, 5]\n",
    "N_result = []\n",
    "def result(N):\n",
    "    \n",
    "    if N == 1:\n",
    "        \n",
    "        N_result.append(N_list[N-1])\n",
    "        return\n",
    "    \n",
    "    \n",
    "    if N_list[N-1] > N_list[N-2]:\n",
    "        if N_list[N-1] not in N_result:\n",
    "            N_result.append(N_list[N-1])\n",
    "        \n",
    "    result(N-1)\n",
    "    \n",
    "result(N)\n",
    "print(N_result)"
   ]
  }
 ],
 "metadata": {
  "kernelspec": {
   "display_name": "Python 3",
   "language": "python",
   "name": "python3"
  },
  "language_info": {
   "codemirror_mode": {
    "name": "ipython",
    "version": 3
   },
   "file_extension": ".py",
   "mimetype": "text/x-python",
   "name": "python",
   "nbconvert_exporter": "python",
   "pygments_lexer": "ipython3",
   "version": "3.5.5"
  }
 },
 "nbformat": 4,
 "nbformat_minor": 2
}
