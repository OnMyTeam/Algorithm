{
 "cells": [
  {
   "cell_type": "markdown",
   "metadata": {},
   "source": [
    "## 문제\n",
    "강남역에서 붕어빵 장사를 하고 있는 해빈이는 지금 붕어빵이 N개 남았다.\n",
    "\n",
    "해빈이는 적절히 붕어빵 세트 메뉴를 구성해서 붕어빵을 팔아서 얻을 수 있는 수익을 최대로 만드려고 한다. 붕어빵 세트 메뉴는 붕어빵을 묶어서 파는 것을 의미하고, 세트 메뉴의 가격은 이미 정해져 있다.\n",
    "\n",
    "붕어빵 i개로 이루어진 세트 메뉴의 가격은 Pi 원이다.\n",
    "\n",
    "붕어빵이 4개 남아 있고, 1개 팔 때의 가격이 1, 2개는 5, 3개는 6, 4개는 7인 경우에 해빈이가 얻을 수 있는 최대 수익은 10원이다. 2개, 2개로 붕어빵을 팔면 되기 때문이다.\n",
    "\n",
    "1개 팔 때의 가격이 5, 2개는 2, 3개는 8, 4개는 10 인 경우에는 20이 된다. 1개, 1개, 1개, 1개로 붕어빵을 팔면 되기 때문이다.\n",
    "\n",
    "마지막으로, 1개 팔 때의 가격이 3, 2개는 5, 3개는 15, 4개는 16인 경우에는 정답은 18이다. 붕어빵을 3개, 1개로 팔면 되기 때문이다.\n",
    "\n",
    "세트 메뉴의 가격이 주어졌을 때, 해빈이가 얻을 수 있는 최대 수익을 구하는 프로그램을 작성하시오. "
   ]
  },
  {
   "cell_type": "markdown",
   "metadata": {},
   "source": [
    "## 입력\n",
    "첫째 줄에 해빈이가 가지고 있는 붕어빵의 개수 N이 주어진다. (1 ≤ N ≤ 1,000)\n",
    "\n",
    "둘째 줄에는 Pi가 P1부터 PN까지 순서대로 주어진다. (1 ≤ Pi ≤ 10,000)"
   ]
  },
  {
   "cell_type": "markdown",
   "metadata": {},
   "source": [
    "### 예제 입력 1\n",
    "4\n",
    "1 5 6 7 \n",
    "### 예제 출력 1\n",
    "10\n",
    "\n",
    "### 예제 입력 2\n",
    "5\n",
    "10 9 8 7 6\n",
    "### 예제 출력 2\n",
    "50\n",
    "\n",
    "### 예제 입력 3\n",
    "10\n",
    "1 1 2 3 5 8 13 21 34 55\n",
    "### 예제 출력 3\n",
    "55\n",
    "\n",
    "### 예제 입력 4\n",
    "10\n",
    "5 10 11 12 13 30 35 40 45 47\n",
    "### 예제 출력 4\n",
    "50"
   ]
  },
  {
   "cell_type": "code",
   "execution_count": 1,
   "metadata": {},
   "outputs": [
    {
     "name": "stdout",
     "output_type": "stream",
     "text": [
      "4\n",
      "3 5 10 1\n",
      "13\n"
     ]
    }
   ],
   "source": [
    "import sys\n",
    "sys.setrecursionlimit(10000000)\n",
    "a,b = input(),input().split()\n",
    "N = int(a)\n",
    "set_list = b\n",
    "max_a=[]\n",
    "\n",
    "for i in range(0,N):\n",
    "\n",
    "    max_a.append(int(i))\n",
    "\n",
    "def result(V):\n",
    "\n",
    "    if V==0:\n",
    "        \n",
    "        return 0\n",
    "\n",
    "\n",
    "    for i in range(1,V+1):\n",
    "\n",
    "        temp_max=int(set_list[i-1])+int(result(V-i))\n",
    "        if max_a[V-1] < temp_max:\n",
    "            max_a[V-1] = temp_max\n",
    "\n",
    "    return max_a[V-1]\n",
    "\n",
    "result(N)\n",
    "\n",
    "print(max_a[N-1])\n",
    "\n",
    "    \n",
    "    "
   ]
  }
 ],
 "metadata": {
  "kernelspec": {
   "display_name": "Python 3",
   "language": "python",
   "name": "python3"
  },
  "language_info": {
   "codemirror_mode": {
    "name": "ipython",
    "version": 3
   },
   "file_extension": ".py",
   "mimetype": "text/x-python",
   "name": "python",
   "nbconvert_exporter": "python",
   "pygments_lexer": "ipython3",
   "version": "3.5.5"
  }
 },
 "nbformat": 4,
 "nbformat_minor": 2
}
