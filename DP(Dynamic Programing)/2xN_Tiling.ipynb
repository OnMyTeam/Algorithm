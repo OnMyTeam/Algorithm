{
 "cells": [
  {
   "cell_type": "markdown",
   "metadata": {},
   "source": [
    "# 문제\n",
    "2×n 크기의 직사각형을 1×2, 2×1 타일로 채우는 방법의 수를 구하는 프로그램을 작성하시오.\n",
    "\n",
    "아래 그림은 2×5 크기의 직사각형을 채운 한 가지 방법의 예이다. \n",
    "\n",
    "\n"
   ]
  },
  {
   "cell_type": "markdown",
   "metadata": {},
   "source": [
    "## 입력\n",
    "첫째 줄에 n이 주어진다. (1 ≤ n ≤ 1,000)"
   ]
  },
  {
   "cell_type": "markdown",
   "metadata": {},
   "source": [
    "## 출력\n",
    "첫째 줄에 2×n 크기의 직사각형을 채우는 방법의 수를 10,007로 나눈 나머지를 출력한다."
   ]
  },
  {
   "cell_type": "markdown",
   "metadata": {},
   "source": [
    "### 예제 입력 1\n",
    "#### 2\n",
    "### 예제 출력 1\n",
    "#### 2\n",
    "### 예제 입력 2\n",
    "#### 9\n",
    "### 예제 출력 2\n",
    "#### 55"
   ]
  },
  {
   "cell_type": "code",
   "execution_count": 1,
   "metadata": {},
   "outputs": [
    {
     "name": "stdout",
     "output_type": "stream",
     "text": [
      "55\n",
      "[1, 2, 3, 5, 8, 13, 21, 34, 55]\n"
     ]
    }
   ],
   "source": [
    "import sys\n",
    "sys.setrecursionlimit(10000000)\n",
    "\n",
    "N = 9\n",
    "save_result = []\n",
    "for i in range(N):\n",
    "    save_result.append(0)\n",
    "\n",
    "\n",
    "def result(N):\n",
    "    a = 0\n",
    "\n",
    "    if save_result[N-1] != 0:\n",
    "        return save_result[N-1]\n",
    "\n",
    "    if N == 1:\n",
    "        save_result[N-1] = 1\n",
    "        return 1\n",
    "\n",
    "\n",
    "    if N == 2:\n",
    "        save_result[1] = 2\n",
    "        return 2\n",
    "\n",
    "    a = result(N-1) + result(N-2)\n",
    "    save_result[N - 1] = a\n",
    "    return a\n",
    "\n",
    "\n",
    "\n",
    "print(result(N) % 10007)\n",
    "print(save_result)"
   ]
  }
 ],
 "metadata": {
  "celltoolbar": "Raw Cell Format",
  "kernelspec": {
   "display_name": "Python 3",
   "language": "python",
   "name": "python3"
  },
  "language_info": {
   "codemirror_mode": {
    "name": "ipython",
    "version": 3
   },
   "file_extension": ".py",
   "mimetype": "text/x-python",
   "name": "python",
   "nbconvert_exporter": "python",
   "pygments_lexer": "ipython3",
   "version": "3.5.5"
  }
 },
 "nbformat": 4,
 "nbformat_minor": 2
}
