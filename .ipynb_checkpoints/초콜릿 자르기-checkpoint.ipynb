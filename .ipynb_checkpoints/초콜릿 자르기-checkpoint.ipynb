{
 "cells": [
  {
   "cell_type": "markdown",
   "metadata": {},
   "source": [
    "## 문제\n",
    "정화는 N×M 크기의 초콜릿을 하나 가지고 있다. 초콜릿은 금이 가 있는 모양을 하고 있으며, 그 금에 의해 N×M개의 조각으로 나눠질 수 있다.\n",
    "\n",
    "초콜릿의 크기가 너무 크다고 생각한 그녀는 초콜릿을 친구들과 나눠 먹기로 했다. 이를 위해서 정화는 초콜릿을 계속 쪼개서 총 N×M개의 조각으로 쪼개려고 한다. 초콜릿을 쪼갤 때에는 초콜릿 조각을 하나 들고, 적당한 위치에서 초콜릿을 쪼갠다. 초콜릿을 쪼갤 때에는 금이 가 있는 위치에서만 쪼갤 수 있다. 이와 같이 초콜릿을 쪼개면 초콜릿은 두 개의 조각으로 나눠지게 된다. 이제 다시 이 중에서 초콜릿 조각을 하나 들고, 쪼개는 과정을 반복하면 된다.\n",
    "\n",
    "초콜릿을 쪼개다보면 초콜릿이 녹을 수 있기 때문에, 정화는 가급적이면 초콜릿을 쪼개는 횟수를 최소로 하려 한다. 초콜릿의 크기가 주어졌을 때, 이를 1×1 크기의 초콜릿으로 쪼개기 위한 최소 쪼개기 횟수를 구하는 프로그램을 작성하시오."
   ]
  },
  {
   "cell_type": "markdown",
   "metadata": {},
   "source": [
    "## 입력\n",
    "첫째 줄에 두 정수 __N,M(1<=N, M<=300)__이 주어진다\n",
    "\n",
    "## 출력\n",
    "첫째 줄에 답을 출력한다.\n",
    "\n",
    "## 예제 입력 1\n",
    "### 2 2"
   ]
  },
  {
   "cell_type": "markdown",
   "metadata": {},
   "source": [
    "## 예제 출력 1\n",
    "### 3"
   ]
  },
  {
   "cell_type": "markdown",
   "metadata": {},
   "source": [
    "  "
   ]
  },
  {
   "cell_type": "code",
   "execution_count": 42,
   "metadata": {},
   "outputs": [
    {
     "name": "stdout",
     "output_type": "stream",
     "text": [
      "1 + 1\n",
      "2 + 1\n",
      "3 + 1\n",
      "4 + 1\n",
      "5 + 1\n",
      "6 + 1\n",
      "7 + 1\n",
      "8 + 1\n",
      "9 + 1\n",
      "10 + 1\n",
      "11 + 1\n",
      "12 + 1\n",
      "13 + 1\n",
      "14 + 1\n",
      "15 + 1\n",
      "16 + 1\n",
      "17 + 1\n",
      "18 + 1\n",
      "최소 횟수 19\n"
     ]
    }
   ],
   "source": [
    "N = 2\n",
    "M = 10\n",
    "size  = N * M\n",
    "def pslice(size):\n",
    "    \n",
    "    if size == 2:\n",
    "        return 1\n",
    "    \n",
    "    else:\n",
    "        a = pslice(size-1) \n",
    "        print(str(a) + ' + 1')\n",
    "        return a + 1\n",
    "      \n",
    "print('최소 횟수 {num}'.format(num=pslice(size)) )"
   ]
  }
 ],
 "metadata": {
  "kernelspec": {
   "display_name": "Python 3",
   "language": "python",
   "name": "python3"
  },
  "language_info": {
   "codemirror_mode": {
    "name": "ipython",
    "version": 3
   },
   "file_extension": ".py",
   "mimetype": "text/x-python",
   "name": "python",
   "nbconvert_exporter": "python",
   "pygments_lexer": "ipython3",
   "version": "3.5.5"
  }
 },
 "nbformat": 4,
 "nbformat_minor": 2
}
