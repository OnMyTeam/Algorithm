{
 "cells": [
  {
   "cell_type": "markdown",
   "metadata": {},
   "source": [
    "# 문제\n",
    "2×n 직사각형을 2×1과 2×2 타일로 채우는 방법의 수를 구하는 프로그램을 작성하시오.\n",
    "\n",
    "아래 그림은 2×17 직사각형을 채운 한가지 예이다. "
   ]
  },
  {
   "cell_type": "markdown",
   "metadata": {},
   "source": [
    "## 입력\n",
    "첫째 줄에 n이 주어진다. (1 ≤ n ≤ 1,000)"
   ]
  },
  {
   "cell_type": "markdown",
   "metadata": {},
   "source": [
    "## 출력\n",
    "첫째 줄에 2×n 크기의 직사각형을 채우는 방법의 수를 10,007로 나눈 나머지를 출력한다."
   ]
  },
  {
   "cell_type": "markdown",
   "metadata": {},
   "source": [
    "### 예제 입력 1\n",
    "#### 2\n",
    "### 예제 출력 1\n",
    "#### 3\n",
    "### 예제 입력 2\n",
    "#### 8\n",
    "### 예제 출력 2\n",
    "#### 171\n",
    "### 예제 입력 3\n",
    "#### 12\n",
    "### 예제 출력 3\n",
    "#### 2731"
   ]
  },
  {
   "cell_type": "code",
   "execution_count": 1,
   "metadata": {},
   "outputs": [
    {
     "name": "stdout",
     "output_type": "stream",
     "text": [
      "5\n",
      "21\n"
     ]
    }
   ],
   "source": [
    "import sys\n",
    "sys.setrecursionlimit(10000000)\n",
    "\n",
    "def result(N):\n",
    "    \n",
    "    if N == 1:\n",
    "        return 1\n",
    "    if N ==2 : \n",
    "        return 3\n",
    "    \n",
    "    if N % 2 == 0:\n",
    "        a = (result(N - 1) * 2) + 1\n",
    "    else:\n",
    "        a = (result(N - 1) * 2) - 1\n",
    "        \n",
    "\n",
    "    return a\n",
    "\n",
    "\n",
    "N = int(input())\n",
    "print(result(N) % 10007)"
   ]
  }
 ],
 "metadata": {
  "kernelspec": {
   "display_name": "Python 3",
   "language": "python",
   "name": "python3"
  },
  "language_info": {
   "codemirror_mode": {
    "name": "ipython",
    "version": 3
   },
   "file_extension": ".py",
   "mimetype": "text/x-python",
   "name": "python",
   "nbconvert_exporter": "python",
   "pygments_lexer": "ipython3",
   "version": "3.5.5"
  }
 },
 "nbformat": 4,
 "nbformat_minor": 2
}
